{
 "cells": [
  {
   "cell_type": "code",
   "execution_count": 217,
   "id": "f8ad25b6-f2d9-4134-9eda-7bef064c3aca",
   "metadata": {
    "tags": []
   },
   "outputs": [],
   "source": [
    "import json\n",
    "import os\n",
    "import requests\n",
    "import io\n",
    "import PIL\n",
    "import PIL.Image as PImage\n",
    "from PIL import ImageEnhance\n",
    "from pprint import pprint\n",
    "import glob\n",
    "from collections import Counter\n",
    "from datetime import datetime\n",
    "import shutil\n",
    "import math\n",
    "from PIL import Image, ImageOps, ImageEnhance\n",
    "import numpy as np\n",
    "from sklearn.model_selection import train_test_split\n",
    "import shutil"
   ]
  },
  {
   "cell_type": "code",
   "execution_count": 218,
   "id": "40ed2aa2-1050-4ff5-8e6d-022eb413c0e7",
   "metadata": {
    "tags": []
   },
   "outputs": [
    {
     "name": "stdout",
     "output_type": "stream",
     "text": [
      "该任务类别下的图片数量： 319\n"
     ]
    }
   ],
   "source": [
    "API_BASE_URL = 'http://fireeye-test-backend-container:9090/api/'\n",
    "TF_SERVING_BASE_URL = 'http://fireeye-test-model-container:8501/'\n",
    "task_id='1ac1e8a095df4611af387d9934799251'\n",
    "num_images = requests.get(\n",
    "    url=API_BASE_URL+'image/count', \n",
    "    params=dict(\n",
    "        task_id=task_id,\n",
    "        has_truth=True\n",
    "    )\n",
    ").json()\n",
    "\n",
    "print('该任务类别下的图片数量：',num_images)"
   ]
  },
  {
   "cell_type": "code",
   "execution_count": 219,
   "id": "815320be-3292-4d22-99a6-1a2a4ea21dc5",
   "metadata": {
    "tags": []
   },
   "outputs": [],
   "source": [
    "def get_image_records(task_id):\n",
    "    resp = requests.get(\n",
    "        url=API_BASE_URL+'image', \n",
    "        params=dict(\n",
    "            task_id=task_id,\n",
    "            has_truth=True\n",
    "        )\n",
    "    )\n",
    "    \n",
    "    if resp.status_code == 200:\n",
    "        return resp.json()\n",
    "    else:\n",
    "        raise RuntimeError(resp.text)\n",
    "    \n",
    "image_records=get_image_records(task_id)"
   ]
  },
  {
   "cell_type": "code",
   "execution_count": 220,
   "id": "9ed4136c-3cbd-4e98-8d4d-2ef6b98d81d1",
   "metadata": {
    "tags": []
   },
   "outputs": [],
   "source": [
    "API_BASE_URL = 'http://fireeye-test-backend-container:9090/api/'\n",
    "image_dir = \"./images\"\n",
    "category0_dir = os.path.join(image_dir, 'Category0')\n",
    "category1_dir = os.path.join(image_dir, 'Category1')\n",
    "if not os.path.exists(category0_dir):\n",
    "    os.makedirs(category0_dir)\n",
    "\n",
    "if not os.path.exists(category1_dir):\n",
    "    os.makedirs(category1_dir)"
   ]
  },
  {
   "cell_type": "code",
   "execution_count": 221,
   "id": "177fc6c8-184b-48d7-a90f-4d5991c87569",
   "metadata": {
    "tags": []
   },
   "outputs": [],
   "source": [
    "def download_image(image_id):\n",
    "    response = requests.get(f\"{API_BASE_URL}image/download/{image_id}\")\n",
    "    return response.content\n"
   ]
  },
  {
   "cell_type": "code",
   "execution_count": 222,
   "id": "d55601c5-7dab-4c51-8705-d1b8754423bd",
   "metadata": {
    "tags": []
   },
   "outputs": [],
   "source": [
    "def vertical_flip(img: Image.Image) -> Image.Image:\n",
    "    return ImageOps.flip(img)"
   ]
  },
  {
   "cell_type": "code",
   "execution_count": 223,
   "id": "f45fa63d-790e-4a4d-8957-38d0ee14f1ed",
   "metadata": {
    "tags": []
   },
   "outputs": [],
   "source": [
    "def horizontal_flip(img: Image.Image) -> Image.Image:\n",
    "    return ImageOps.mirror(img)"
   ]
  },
  {
   "cell_type": "code",
   "execution_count": 224,
   "id": "715e893f-aa4d-4a74-901c-74ea3d5a95a3",
   "metadata": {
    "tags": []
   },
   "outputs": [],
   "source": [
    "def clip_image(img: Image.Image, target_height: int, target_width: int) -> Image.Image:\n",
    "    width, height = img.size\n",
    "    left = (width - target_width) / 5\n",
    "    top = (height - target_height) / 5\n",
    "    right = (width + target_width) / 5\n",
    "    bottom = (height + target_height) / 5\n",
    "    return img.crop((left, top, right, bottom))\n",
    "\n",
    "\n",
    "def normalize_image(img: Image.Image) -> np.ndarray:\n",
    "    img_array = np.array(img)\n",
    "    return img_array / 255.0"
   ]
  },
  {
   "cell_type": "code",
   "execution_count": 225,
   "id": "1063e159-57ee-4eac-80ea-d21dced30a41",
   "metadata": {
    "tags": []
   },
   "outputs": [],
   "source": [
    "def get_image_by_id(id):\n",
    "    r = requests.get(url=API_BASE_URL+'image/'+id)\n",
    "    if r.status_code == 200:\n",
    "        return PIL.Image.open(io.BytesIO(r.content))\n",
    "    else:\n",
    "        raise RuntimeError(r.text)\n",
    "img = get_image_by_id(image_records[0]['id'])\n",
    "img_vertical_flipped = vertical_flip(img)\n",
    "img_horizontal_flipped = horizontal_flip(img)\n",
    "img_clipped = clip_image(img, 200, 200)\n",
    "img_normalized = normalize_image(img)"
   ]
  },
  {
   "cell_type": "code",
   "execution_count": 226,
   "id": "4c1a2898-f085-4f53-af0f-0098f5b3884f",
   "metadata": {
    "tags": []
   },
   "outputs": [
    {
     "name": "stdout",
     "output_type": "stream",
     "text": [
      "Error processing image a9e2d8fc8d1c4cf189b25a3b84aa6fbd. Error: cannot identify image file <_io.BytesIO object at 0x7f70aaecb9b0>\n",
      "Error processing image 8d7a4205f1d649f8887850ea4ae022d4. Error: cannot identify image file <_io.BytesIO object at 0x7f70aaec05f0>\n",
      "Error processing image f510cc840a474fe499ba79f85b4bdeb1. Error: cannot identify image file <_io.BytesIO object at 0x7f70aaec0e90>\n",
      "Error processing image c68901d98bc6423a8d1d2caaf2fec409. Error: cannot identify image file <_io.BytesIO object at 0x7f70ab10d470>\n",
      "Error processing image b818d44438434d12990f13ed850e6a15. Error: cannot identify image file <_io.BytesIO object at 0x7f70ab1f5d70>\n",
      "Error processing image 99fc0093458a4190a84c58d95afb7b77. Error: cannot identify image file <_io.BytesIO object at 0x7f70aaec3590>\n",
      "Error processing image ebdbfed73b414844a47b45f2f83322ce. Error: cannot identify image file <_io.BytesIO object at 0x7f70ab362f50>\n",
      "Error processing image 5753449afe744d539793a9daeac17be7. Error: cannot identify image file <_io.BytesIO object at 0x7f703af12fb0>\n",
      "Error processing image ee6b520658094bb09fac87646db035b1. Error: cannot identify image file <_io.BytesIO object at 0x7f703b1faf50>\n",
      "Error processing image 85a14eb3295b4c7a935abfe84669b8d5. Error: cannot identify image file <_io.BytesIO object at 0x7f70aaec3fb0>\n",
      "Error processing image a3a340fba4b2485aa2e0b2df5c55c4f5. Error: cannot identify image file <_io.BytesIO object at 0x7f70aaec3c50>\n",
      "Error processing image 9921528423d247469547e3e97861acc0. Error: cannot identify image file <_io.BytesIO object at 0x7f707c901fb0>\n",
      "Error processing image 560f4ef6d98e4b8bace034bdb3026089. Error: cannot identify image file <_io.BytesIO object at 0x7f707c2a34d0>\n",
      "Error processing image a1490fad78ee4e23aa01ec4762c7a13d. Error: cannot identify image file <_io.BytesIO object at 0x7f707c2a3ad0>\n",
      "Error processing image 4cd755513bc945d397482d0d6cd553a0. Error: cannot identify image file <_io.BytesIO object at 0x7f70aaec6a70>\n",
      "Error processing image 1f2d39f23f41462784eccbd80cdff967. Error: cannot identify image file <_io.BytesIO object at 0x7f70aaec6a10>\n",
      "Error processing image 3cd52a7ec5134104abe74d99803de21a. Error: cannot identify image file <_io.BytesIO object at 0x7f703b1a6710>\n",
      "Error processing image c1978e74e3394f85bb7fc62f9c7a9cb1. Error: cannot identify image file <_io.BytesIO object at 0x7f707c976050>\n",
      "Error processing image dae3c2f97a25449591cf644c1b4caa62. Error: cannot identify image file <_io.BytesIO object at 0x7f707c2866b0>\n",
      "Error processing image 880a6d41edc648bbba91d44a15fbc9e0. Error: cannot identify image file <_io.BytesIO object at 0x7f707c286f50>\n",
      "Error processing image 87f521a360d24b0b9932c89593d17edc. Error: cannot identify image file <_io.BytesIO object at 0x7f70aaecb9b0>\n",
      "Error processing image 80141b19b42b4fdb90b7b5a92fc7c7f3. Error: cannot identify image file <_io.BytesIO object at 0x7f707c286830>\n",
      "Error processing image 5f78573d24014d88be6031fea0e00688. Error: cannot identify image file <_io.BytesIO object at 0x7f70aaec0ef0>\n",
      "Error processing image e7554aa6d6204210b67c20e6b8f9b5b8. Error: cannot identify image file <_io.BytesIO object at 0x7f707c976050>\n",
      "Error processing image 5cb32030fcf9412c9efa2309fdc342eb. Error: cannot identify image file <_io.BytesIO object at 0x7f703b1a6710>\n",
      "Error processing image 3c915f59779c436e901ee1484e4a305a. Error: cannot identify image file <_io.BytesIO object at 0x7f70aaec6a10>\n",
      "Error processing image 133db94ae2184ca886512647e57203b3. Error: cannot identify image file <_io.BytesIO object at 0x7f70aaec6a70>\n",
      "Error processing image 108978937bcf461c92d82e764de5b7cb. Error: cannot identify image file <_io.BytesIO object at 0x7f707c2a3ad0>\n",
      "Error processing image 0809343f37064604a3081f22e42a0712. Error: cannot identify image file <_io.BytesIO object at 0x7f707c2a34d0>\n",
      "Error processing image 58fa33bcbdda4e63874d845f08f566c7. Error: cannot identify image file <_io.BytesIO object at 0x7f707c901fb0>\n",
      "Error processing image 82d4f6a4a8394b40ab938477173421a8. Error: cannot identify image file <_io.BytesIO object at 0x7f703b1faf50>\n",
      "Error processing image abb4f3be41d742329c24ffb614f5e85c. Error: cannot identify image file <_io.BytesIO object at 0x7f703af12fb0>\n",
      "Error processing image 66547e8ea6084c328de851022f1e0d86. Error: cannot identify image file <_io.BytesIO object at 0x7f70ab362f50>\n",
      "Error processing image 3558d6650bbe4b6b9cf65b47668f5875. Error: cannot identify image file <_io.BytesIO object at 0x7f707c286f50>\n",
      "Error processing image aed7760ad9ff49f39ca5cf4ca6252215. Error: cannot identify image file <_io.BytesIO object at 0x7f70aaec3c50>\n",
      "Error processing image fd69e8b96a9943de9ec97232e25cb608. Error: cannot identify image file <_io.BytesIO object at 0x7f70ab1f5d70>\n",
      "Error processing image 579f8d83cb6942cb9fd65d90ea876582. Error: cannot identify image file <_io.BytesIO object at 0x7f70ab10d470>\n",
      "Error processing image 10b831e5a9ed45938231645e3e30ac35. Error: cannot identify image file <_io.BytesIO object at 0x7f70aaecba10>\n",
      "Error processing image 4a2faba103eb41aebc75ef9733e10432. Error: cannot identify image file <_io.BytesIO object at 0x7f70aaec3590>\n",
      "Error processing image 2fa1203e7a36432faa02da6873fd6970. Error: cannot identify image file <_io.BytesIO object at 0x7f70aaec3fb0>\n",
      "Error processing image 56ff04743cbb48ef85b6c2e7c4e7bcd5. Error: cannot identify image file <_io.BytesIO object at 0x7f70aaecb9b0>\n",
      "Error processing image 77f8abb0dde04cfb88d0ca1e1e099a0a. Error: cannot identify image file <_io.BytesIO object at 0x7f707c2866b0>\n",
      "Error processing image ddf09375a40c439a82948c8ff0efcf09. Error: cannot identify image file <_io.BytesIO object at 0x7f70aaec0e90>\n",
      "Error processing image 3b2f855b0bc646a8b89671ffe10a01e2. Error: cannot identify image file <_io.BytesIO object at 0x7f70ab10d470>\n",
      "Error processing image 02ed8c97ce8f420ea30ff52953ea3826. Error: cannot identify image file <_io.BytesIO object at 0x7f70ab1f5d70>\n",
      "Error processing image 560b4e3741aa403bb90b1f7968f5c502. Error: cannot identify image file <_io.BytesIO object at 0x7f70aaecba10>\n",
      "Error processing image 266353dfa550488ba42c2c086ae17e0c. Error: cannot identify image file <_io.BytesIO object at 0x7f70ab362f50>\n",
      "Error processing image 68d0eb08435840f0ad6e1bf798f7920a. Error: cannot identify image file <_io.BytesIO object at 0x7f703af12fb0>\n",
      "Error processing image 26e8797fe6f3403094214f1d3a1fb6d2. Error: cannot identify image file <_io.BytesIO object at 0x7f703b1faf50>\n",
      "Error processing image 9518594f6d664b4da743362fbbbfce95. Error: cannot identify image file <_io.BytesIO object at 0x7f707c901fb0>\n",
      "Error processing image d9db477f6ab04751b480f47318016efe. Error: cannot identify image file <_io.BytesIO object at 0x7f707c2a34d0>\n",
      "Error processing image 18cf251a176d4334a30483469c30772a. Error: cannot identify image file <_io.BytesIO object at 0x7f707c2a3ad0>\n",
      "Error processing image c991295b87b749f78ed15308724c4843. Error: cannot identify image file <_io.BytesIO object at 0x7f70aaec6a70>\n",
      "Error processing image e8d41972f5e940af8f99bfb38db89964. Error: cannot identify image file <_io.BytesIO object at 0x7f70aaec6a10>\n",
      "Error processing image 718a94a6ddb64605a7cf4f760e58aa09. Error: cannot identify image file <_io.BytesIO object at 0x7f703b1a6710>\n",
      "Error processing image 5f2170e659a84afdb2945c82f99cee23. Error: cannot identify image file <_io.BytesIO object at 0x7f707c976050>\n",
      "Error processing image f4452e253703429688ff8b23e7be7cc3. Error: cannot identify image file <_io.BytesIO object at 0x7f70aaec3590>\n",
      "Error processing image f3a4f4f0b4d04a57b64ca30a5009630c. Error: cannot identify image file <_io.BytesIO object at 0x7f707c2866b0>\n",
      "Error processing image b4a64fff5b3b4b7cbc8cc920ccb60d73. Error: cannot identify image file <_io.BytesIO object at 0x7f70aaec3fb0>\n",
      "Error processing image 4374135d3404442ebdbc31b9603cc456. Error: cannot identify image file <_io.BytesIO object at 0x7f70aaec3c50>\n",
      "Error processing image a6bcd5b6f4e240d593ae7a21e351d6cd. Error: cannot identify image file <_io.BytesIO object at 0x7f707c286f50>\n",
      "Error processing image 13620d06443a49d39da221d986e54948. Error: cannot identify image file <_io.BytesIO object at 0x7f707c286830>\n",
      "Error processing image c612d14567894d2cb0a9b70403735a95. Error: cannot identify image file <_io.BytesIO object at 0x7f70aaec05f0>\n",
      "Error processing image c833d1a5e6f741e0baf3525d4f6cd3c2. Error: cannot identify image file <_io.BytesIO object at 0x7f70aaec3c50>\n",
      "Error processing image 5693801142554eb0b3808a3cb2bbaa1f. Error: cannot identify image file <_io.BytesIO object at 0x7f707c976050>\n",
      "Error processing image bf96327aaad74efa989e8fdb22aa9d58. Error: cannot identify image file <_io.BytesIO object at 0x7f703b1a6710>\n",
      "Error processing image 53a4e8fa224348058e0d2cd92db08605. Error: cannot identify image file <_io.BytesIO object at 0x7f707c2866b0>\n",
      "Error processing image d0a7905bfdc5412db39d493028f9cfc9. Error: cannot identify image file <_io.BytesIO object at 0x7f707c286f50>\n",
      "Error processing image 814a91c46fd14a588548f825d761ffdd. Error: cannot identify image file <_io.BytesIO object at 0x7f70aaec3590>\n",
      "Error processing image 052d0040561c4ed69152e7ebbc8d54e0. Error: cannot identify image file <_io.BytesIO object at 0x7f70aaec3fb0>\n",
      "Error processing image b0a429ae47a7455bb996eb067f67a06d. Error: cannot identify image file <_io.BytesIO object at 0x7f707c901fb0>\n",
      "Error processing image d5cdf3f00d27471c9045f323e4d5c276. Error: cannot identify image file <_io.BytesIO object at 0x7f703b1faf50>\n",
      "Error processing image 6582144bc05a400d9b34fd6f48a546b1. Error: cannot identify image file <_io.BytesIO object at 0x7f703af12fb0>\n",
      "Error processing image 83ec5a739dc74a4ba49e47ce6c0c05c3. Error: cannot identify image file <_io.BytesIO object at 0x7f70ab362f50>\n",
      "Error processing image 9796836a6ea343f6b7fabc4f1d1af287. Error: cannot identify image file <_io.BytesIO object at 0x7f70ab1f5d70>\n",
      "Error processing image e6996746c7f541449494f4d0b52c21b2. Error: cannot identify image file <_io.BytesIO object at 0x7f70ab10d470>\n",
      "Error processing image 7861379362b44fefba41912bc6b70562. Error: cannot identify image file <_io.BytesIO object at 0x7f70aaec6a70>\n",
      "Error processing image e6078b28f98c4ee0842608f0954fc6e7. Error: cannot identify image file <_io.BytesIO object at 0x7f70aaec6a10>\n",
      "Error processing image 0eb90b1af8634d509424ce74c88dd7f8. Error: cannot identify image file <_io.BytesIO object at 0x7f707c2a34d0>\n",
      "Error processing image 571b63c3dea34330829d265ed01b4f4b. Error: cannot identify image file <_io.BytesIO object at 0x7f707c2a3ad0>\n",
      "Error processing image 5f274236189b40579fd578b75457cbc9. Error: cannot identify image file <_io.BytesIO object at 0x7f70aaecba10>\n",
      "Error processing image c9b4ec418aa544548a57291033d335ff. Error: cannot identify image file <_io.BytesIO object at 0x7f70aaecb9b0>\n",
      "Error processing image 39af01842af545d988fd9371905a52ce. Error: cannot identify image file <_io.BytesIO object at 0x7f70aaec05f0>\n",
      "Error processing image f852efeb314842338c8ed1684e9fc709. Error: cannot identify image file <_io.BytesIO object at 0x7f70ab10d470>\n",
      "Error processing image 09fcb89b0faf4185ae7580d527590b0c. Error: cannot identify image file <_io.BytesIO object at 0x7f70ab1f5d70>\n",
      "Error processing image 24254a1ec7f2484d9c1268db28e076d2. Error: cannot identify image file <_io.BytesIO object at 0x7f70ab362f50>\n",
      "Error processing image 3ee77106d5aa4c91bf7345f4e5ef2710. Error: cannot identify image file <_io.BytesIO object at 0x7f703af12fb0>\n",
      "Error processing image d0ad899100334ecdaa1228123f552bca. Error: cannot identify image file <_io.BytesIO object at 0x7f703b1faf50>\n",
      "Error processing image 72a2a2dce6444cbc986aa2eab31a2ade. Error: cannot identify image file <_io.BytesIO object at 0x7f707c901fb0>\n",
      "Error processing image 320e2b9942894cf4863a8c3e60228a50. Error: cannot identify image file <_io.BytesIO object at 0x7f703b1a6710>\n",
      "Error processing image 8cec5669a556478199ec9e58b1d4e5d9. Error: cannot identify image file <_io.BytesIO object at 0x7f707c976050>\n",
      "Error processing image f77a62b8cc3645638c03471181a7fd7a. Error: cannot identify image file <_io.BytesIO object at 0x7f70aaec6a10>\n",
      "Error processing image 361e7d72590140828358b92f6e73c813. Error: cannot identify image file <_io.BytesIO object at 0x7f70aaec6a70>\n",
      "Error processing image 8d8a946b3db94232bb5ef7dd079ae886. Error: cannot identify image file <_io.BytesIO object at 0x7f70aaec3fb0>\n",
      "Error processing image 3715b9485254456b9e10f194c963a777. Error: cannot identify image file <_io.BytesIO object at 0x7f707c2a3ad0>\n",
      "Error processing image f58403a83d8342378c24ae74765793fd. Error: cannot identify image file <_io.BytesIO object at 0x7f707c2a34d0>\n",
      "Error processing image 6244391f069946018e81512dabb633fe. Error: cannot identify image file <_io.BytesIO object at 0x7f70aaec3590>\n",
      "Error processing image 7a1dc5ecba2843fab8dfb5d8f9110d43. Error: cannot identify image file <_io.BytesIO object at 0x7f70aaec3c50>\n",
      "Error processing image d018d34f9942488192e112e3d803f2dc. Error: cannot identify image file <_io.BytesIO object at 0x7f707c2866b0>\n",
      "Error processing image 5dcf7abf039a4f7e862cb2a97d2b4aec. Error: cannot identify image file <_io.BytesIO object at 0x7f707c286f50>\n",
      "Error processing image 6b897cb1a32e4287960b055e05a2efc4. Error: cannot identify image file <_io.BytesIO object at 0x7f707c286830>\n",
      "Error processing image 1b70ec6e667a4576a6b23e53a145225e. Error: cannot identify image file <_io.BytesIO object at 0x7f707c286350>\n",
      "Error processing image 56b974522d0d48dabee1237704cd6d73. Error: cannot identify image file <_io.BytesIO object at 0x7f70aaecb9b0>\n",
      "Error processing image a5783536e2214da09e7fe2440b1a6e04. Error: cannot identify image file <_io.BytesIO object at 0x7f707c2a34d0>\n",
      "Error processing image da1d0143e7b44fe2b4a2aca4fce84596. Error: cannot identify image file <_io.BytesIO object at 0x7f707c2a3ad0>\n",
      "Error processing image 14bebeaf413d45e7ae06ebfa41420877. Error: cannot identify image file <_io.BytesIO object at 0x7f707c2866b0>\n",
      "Error processing image 2f453509b2f144a09d894ee66f1f562f. Error: cannot identify image file <_io.BytesIO object at 0x7f70aaec3c50>\n",
      "Error processing image fb8eba62abfc451f9b2481434a8d15bf. Error: cannot identify image file <_io.BytesIO object at 0x7f707c286830>\n",
      "Error processing image a8fbe345-c8f6-4a03-81b8-15e6c3c4ebcc. Error: cannot identify image file <_io.BytesIO object at 0x7f707c286f50>\n",
      "Error processing image 5821aa71-81df-4b1a-8da5-4c01addcef12. Error: cannot identify image file <_io.BytesIO object at 0x7f707c976050>\n",
      "Error processing image 66551776-0e45-4dc0-9a51-1ad0726e62d2. Error: cannot identify image file <_io.BytesIO object at 0x7f703b1a6710>\n",
      "Error processing image af316580-ce89-4408-989e-38a4432634c4. Error: cannot identify image file <_io.BytesIO object at 0x7f707c901fb0>\n",
      "Error processing image 9e49343c-cbce-49b5-ba8d-6cf2a0dca619. Error: cannot identify image file <_io.BytesIO object at 0x7f703b1faf50>\n",
      "Error processing image dfcee39e-f12b-4fb4-ae00-b9be0ce3645e. Error: cannot identify image file <_io.BytesIO object at 0x7f703af12fb0>\n",
      "Error processing image fab8d160-fec1-419e-9481-f2dbb806b8c0. Error: cannot identify image file <_io.BytesIO object at 0x7f70ab362f50>\n",
      "Error processing image d5b8217a-ca14-4d4d-bf7a-352faadec99a. Error: cannot identify image file <_io.BytesIO object at 0x7f70ab1f5d70>\n",
      "Error processing image ea0b5167-1b95-441e-933d-a1016ed62dc2. Error: cannot identify image file <_io.BytesIO object at 0x7f70ab10d470>\n",
      "Error processing image b91b1994-d88b-4da4-b961-955595bd55cf. Error: cannot identify image file <_io.BytesIO object at 0x7f70aaec3fb0>\n",
      "Error processing image dcae5fd9-e364-468e-9512-91962d80e4cb. Error: cannot identify image file <_io.BytesIO object at 0x7f70aaec3590>\n",
      "Error processing image 28cb5dd1-c5ed-45d9-aedc-71549c0ec867. Error: cannot identify image file <_io.BytesIO object at 0x7f70aaec6a10>\n",
      "Error processing image ea935443-6751-4caa-9193-ab9e3fe8caa2. Error: cannot identify image file <_io.BytesIO object at 0x7f70aaec6a70>\n",
      "Error processing image 00fa9ae9-d988-43d7-b1e2-0df30b70a76c. Error: cannot identify image file <_io.BytesIO object at 0x7f70aaecba10>\n",
      "Error processing image 332c8fb462974216a0fc5bb7390df876. Error: cannot identify image file <_io.BytesIO object at 0x7f70aaecb9b0>\n",
      "Error processing image d3e4d4d51f7345b8a6ba3213d37e7f42. Error: cannot identify image file <_io.BytesIO object at 0x7f70ab10d470>\n",
      "Error processing image b1697c6fa17f4666ac3d91ccea9bafca. Error: cannot identify image file <_io.BytesIO object at 0x7f70aaec6a10>\n",
      "Error processing image 1c3a417ca073425ebf3eecc19a4b09d0. Error: cannot identify image file <_io.BytesIO object at 0x7f703b1faf50>\n",
      "Error processing image d94dfcd6144b4dc98a0732c1d7c73e26. Error: cannot identify image file <_io.BytesIO object at 0x7f70ab1f5d70>\n",
      "Error processing image 861435f613fd4eeda996046626f97a4a. Error: cannot identify image file <_io.BytesIO object at 0x7f707c901fb0>\n",
      "Error processing image 8ab8e0727d6842fd86b05ff4e31366b4. Error: cannot identify image file <_io.BytesIO object at 0x7f703b1a6710>\n",
      "Error processing image d4b658e91cce4c44ab0c154b0bddc4f7. Error: cannot identify image file <_io.BytesIO object at 0x7f707c976050>\n",
      "Error processing image cca4becf615c4b18a6ed72e3e041f489. Error: cannot identify image file <_io.BytesIO object at 0x7f703af12fb0>\n",
      "Error processing image e482e6dd04af4f5e8605499b4e32db89. Error: cannot identify image file <_io.BytesIO object at 0x7f707c2a3ad0>\n",
      "Error processing image 7d959fb1de624622b1a07071952798df. Error: cannot identify image file <_io.BytesIO object at 0x7f707c2a34d0>\n",
      "Error processing image b176d0a5a5ba44ccafbfe5aebfdfe8fb. Error: cannot identify image file <_io.BytesIO object at 0x7f70aaec3c50>\n",
      "Error processing image 05d985c212e049b48e155a3c3294bfe7. Error: cannot identify image file <_io.BytesIO object at 0x7f70aaec3fb0>\n",
      "Error processing image e265ba2bce7d4513aa7576b7560a6aaf. Error: cannot identify image file <_io.BytesIO object at 0x7f70aaec3590>\n",
      "Error processing image 016fba4498574cfbb700383fedfada07. Error: cannot identify image file <_io.BytesIO object at 0x7f707c2866b0>\n",
      "Error processing image 9bcf77b01fb14b9e9cf34560fa66b081. Error: cannot identify image file <_io.BytesIO object at 0x7f70aaecba10>\n",
      "Error processing image c29ef48518b04c5eaf50e24b8d0db81f. Error: cannot identify image file <_io.BytesIO object at 0x7f70aaecb9b0>\n",
      "Error processing image 657e0ef6d8024cc78ab16d2339419c75. Error: cannot identify image file <_io.BytesIO object at 0x7f707c286350>\n",
      "Error processing image 777c6232fc6047b2bf0c1ffaf82dd0ce. Error: cannot identify image file <_io.BytesIO object at 0x7f707c286f50>\n",
      "Error processing image a6cfc28bf28d4087b7e2a975ab339fc9. Error: cannot identify image file <_io.BytesIO object at 0x7f707c286830>\n",
      "Error processing image c83e97571d26420a906c3261ca86f552. Error: cannot identify image file <_io.BytesIO object at 0x7f70aaec0a70>\n",
      "Error processing image 0539caac0f6f432f8b9ab4a6c87395de. Error: cannot identify image file <_io.BytesIO object at 0x7f70aaecba10>\n",
      "Error processing image 14c47056657648679cd9f1f77067a575. Error: cannot identify image file <_io.BytesIO object at 0x7f707c286350>\n",
      "Error processing image ad75804cd010445089954ca6d578b650. Error: cannot identify image file <_io.BytesIO object at 0x7f70ab10d470>\n",
      "Error processing image cba4c61b17e1454288859813fa0bbfa7. Error: cannot identify image file <_io.BytesIO object at 0x7f70aaec3590>\n",
      "Error processing image 02a086f8f39248fb98eb73ac9125cb33. Error: cannot identify image file <_io.BytesIO object at 0x7f707c2866b0>\n",
      "Error processing image 9011f806fc514eafbc9056180275148d. Error: cannot identify image file <_io.BytesIO object at 0x7f707c286f50>\n",
      "Error processing image 8554800ab6b2458b8de2526aa5d3b007. Error: cannot identify image file <_io.BytesIO object at 0x7f703af12fb0>\n",
      "Error processing image d4132b7116db47d3b9c348fbc6fed7ed. Error: cannot identify image file <_io.BytesIO object at 0x7f707c976050>\n",
      "Error processing image 855bb2d07e7f4be3b3e38a66bffe8d7b. Error: cannot identify image file <_io.BytesIO object at 0x7f703b1a6710>\n",
      "Error processing image af16c5448fd540449484b13e9f7d4940. Error: cannot identify image file <_io.BytesIO object at 0x7f707c901fb0>\n",
      "Error processing image 4620d9fb453b41f7a01cc0ee74e258a9. Error: cannot identify image file <_io.BytesIO object at 0x7f70ab1f5d70>\n",
      "Error processing image a55857d684544d98b6e7da639148eea6. Error: cannot identify image file <_io.BytesIO object at 0x7f703b1faf50>\n",
      "Error processing image aff28aef13e2464591a555808ae2732d. Error: cannot identify image file <_io.BytesIO object at 0x7f70ab362f50>\n",
      "Error processing image a4c5e89db617458680aadfa1e6319588. Error: cannot identify image file <_io.BytesIO object at 0x7f707c2a3ad0>\n",
      "Error processing image 14499d28ccfe427189d12e767505a557. Error: cannot identify image file <_io.BytesIO object at 0x7f707c2a34d0>\n",
      "Error processing image 979a5735028548c5a6a6e9b41cf2e5a6. Error: cannot identify image file <_io.BytesIO object at 0x7f70aaec3c50>\n",
      "Error processing image 5aec2ff10b314a7393e580173e53b260. Error: cannot identify image file <_io.BytesIO object at 0x7f70aaec3fb0>\n",
      "Error processing image e4652913c60041459942ffb8390d7291. Error: cannot identify image file <_io.BytesIO object at 0x7f70aaec6a10>\n",
      "Error processing image c99510404027419b95a0eb3a6bbcd51b. Error: cannot identify image file <_io.BytesIO object at 0x7f70aaec6a70>\n",
      "Error processing image 1478d55dc4f64424ba2ad5125dee8262. Error: cannot identify image file <_io.BytesIO object at 0x7f70aaec05f0>\n",
      "Error processing image 8ff5e6fc0308445490893d8d1bc659d8. Error: cannot identify image file <_io.BytesIO object at 0x7f70aaec6a10>\n",
      "Error processing image 4ca66b81fcd540609e07dd75396757cd. Error: cannot identify image file <_io.BytesIO object at 0x7f703b1faf50>\n",
      "Error processing image 45f06c19a5ae46ac83b469ec9bb496b5. Error: cannot identify image file <_io.BytesIO object at 0x7f70ab1f5d70>\n",
      "Error processing image 2254830db988434f9ea3357b2cf57579. Error: cannot identify image file <_io.BytesIO object at 0x7f707c901fb0>\n",
      "Error processing image 30730a5d9c21470084b8fa0ade15cd20. Error: cannot identify image file <_io.BytesIO object at 0x7f707c901fb0>\n",
      "Error processing image 153255d365a74bfd985a67e72bc9069a. Error: cannot identify image file <_io.BytesIO object at 0x7f703b1a6710>\n",
      "Error processing image 92b953a56c824af5a94bdd3081341c57. Error: cannot identify image file <_io.BytesIO object at 0x7f703af12fb0>\n",
      "Error processing image 12f2f0288c6c41e482c93ff3c8a3fd2a. Error: cannot identify image file <_io.BytesIO object at 0x7f707c976050>\n",
      "Error processing image 16edfd14f6fb478b81f2101cbb96b1fc. Error: cannot identify image file <_io.BytesIO object at 0x7f70aaec3fb0>\n",
      "Error processing image 4c46f14a1616448da928864afdc0b46d. Error: cannot identify image file <_io.BytesIO object at 0x7f707c2a34d0>\n",
      "Error processing image 72c5460200e2470092421bbc7890690a. Error: cannot identify image file <_io.BytesIO object at 0x7f707c2a3ad0>\n",
      "Error processing image 31ad35aae225473db8c4d9697a42e1fe. Error: cannot identify image file <_io.BytesIO object at 0x7f70aaec3c50>\n",
      "Error processing image 172a5bdc2ede4e20a5c3d7736eab2ab9. Error: cannot identify image file <_io.BytesIO object at 0x7f70aaec3590>\n",
      "Error processing image 13cabac01eed4ec4ae1a1f64d11e1b91. Error: cannot identify image file <_io.BytesIO object at 0x7f707c286830>\n",
      "Error processing image 083a5ad1bdd74a87bbf86f1aafe5086d. Error: cannot identify image file <_io.BytesIO object at 0x7f70aaecba10>\n",
      "Error processing image d2459304d0e743b9b98370ae95aaaf9a. Error: cannot identify image file <_io.BytesIO object at 0x7f70aaecb9b0>\n",
      "Error processing image d3132d42d0b846a7b8162060bc4b30eb. Error: cannot identify image file <_io.BytesIO object at 0x7f707c286350>\n",
      "Error processing image bba96a94c999408a9286108bd156e257. Error: cannot identify image file <_io.BytesIO object at 0x7f707c286f50>\n",
      "Error processing image 051b5741c8354b7f9a02c16b97690e6a. Error: cannot identify image file <_io.BytesIO object at 0x7f707c2866b0>\n",
      "Error processing image d564b80d9ed24137a01a5b6ba4059b23. Error: cannot identify image file <_io.BytesIO object at 0x7f70aaec0e90>\n",
      "Error processing image af72d99c91dc4e669abd1725bb3a3e26. Error: cannot identify image file <_io.BytesIO object at 0x7f70aaecba10>\n",
      "Error processing image 8c49775f05d3477fbbdb994a4175640e. Error: cannot identify image file <_io.BytesIO object at 0x7f707c286350>\n",
      "Error processing image 617c1d674b9940ccbac49e941e9738ba. Error: cannot identify image file <_io.BytesIO object at 0x7f707c2a3ad0>\n",
      "Error processing image 25438ae4a7844d68a245a49126f6dba0. Error: cannot identify image file <_io.BytesIO object at 0x7f707c2a34d0>\n",
      "Error processing image 26f6b5853f2d4f40a55d06e9a1baa813. Error: cannot identify image file <_io.BytesIO object at 0x7f707c286830>\n",
      "Error processing image ee73ea284f574c51b6d8b359c4b6c791. Error: cannot identify image file <_io.BytesIO object at 0x7f707c286830>\n",
      "Error processing image adb45266adbb47d7807207987ecbe1c5. Error: cannot identify image file <_io.BytesIO object at 0x7f707c2866b0>\n",
      "Error processing image c95d3ccf5b114cc8b7d3c7c30a9b8e8c. Error: cannot identify image file <_io.BytesIO object at 0x7f707c976050>\n",
      "Error processing image 8b45c19e49ec48409eef5cb519a1065b. Error: cannot identify image file <_io.BytesIO object at 0x7f703af12fb0>\n",
      "Error processing image 8a2edb5f06064c18b255ae956ac1e212. Error: cannot identify image file <_io.BytesIO object at 0x7f703b1a6710>\n",
      "Error processing image 1c9d5ce57c5a4f3983ee8dd2660e4c4f. Error: cannot identify image file <_io.BytesIO object at 0x7f707c901fb0>\n",
      "Error processing image 25fa860edef1460c8426b003d2fa2f13. Error: cannot identify image file <_io.BytesIO object at 0x7f70ab10d470>\n",
      "Error processing image aabb1ec05e4348c1a5af02af44285d30. Error: cannot identify image file <_io.BytesIO object at 0x7f70ab1f5d70>\n",
      "Error processing image c921a7b67e294def8e2141608d7a2495. Error: cannot identify image file <_io.BytesIO object at 0x7f703b1faf50>\n",
      "Error processing image 12b34202d9624d3d8b6197aa47c16004. Error: cannot identify image file <_io.BytesIO object at 0x7f70aaec6a10>\n",
      "Error processing image 422355190a224c45a394c9ea1e797be0. Error: cannot identify image file <_io.BytesIO object at 0x7f70aaec6a70>\n",
      "Error processing image b031ae7dd900428cb9cbb78591aaf759. Error: cannot identify image file <_io.BytesIO object at 0x7f70aaec3fb0>\n",
      "Error processing image e08244b2134640cbba6c110fa126c598. Error: cannot identify image file <_io.BytesIO object at 0x7f70aaec3590>\n",
      "Error processing image ffd1bd9e43564333814ac455aa56dbc0. Error: cannot identify image file <_io.BytesIO object at 0x7f70aaec3c50>\n",
      "Error processing image f949065ed5184b129b29977cc765c3d1. Error: cannot identify image file <_io.BytesIO object at 0x7f70aaec0a70>\n",
      "Error processing image ed745525b442477eadb36941ee7cf48d. Error: cannot identify image file <_io.BytesIO object at 0x7f703b1faf50>\n",
      "Error processing image 38f0ea86834e44bfa0fda99b4c37ca10. Error: cannot identify image file <_io.BytesIO object at 0x7f70ab1f5d70>\n",
      "Error processing image 3b996e42f3724ae686c3e13bf1950b92. Error: cannot identify image file <_io.BytesIO object at 0x7f70ab10d470>\n",
      "Error processing image 00d1aca79cf545f58d469a11e1be62a8. Error: cannot identify image file <_io.BytesIO object at 0x7f707c901fb0>\n",
      "Error processing image 4b31b05828e64478b5d54b8adb1c9de0. Error: cannot identify image file <_io.BytesIO object at 0x7f703b1a6710>\n",
      "Error processing image 35ce344dd81240a59db16aa3ce1fd7e7. Error: cannot identify image file <_io.BytesIO object at 0x7f70aaec6a70>\n",
      "Error processing image eeccd660a8bf4c92bd55dee2046dae24. Error: cannot identify image file <_io.BytesIO object at 0x7f707c976050>\n",
      "Error processing image 4027c70db6314b68b3f7ae14426fe575. Error: cannot identify image file <_io.BytesIO object at 0x7f70ab362f50>\n",
      "Error processing image 649b2827e0fa485b8f184e215ce782b5. Error: cannot identify image file <_io.BytesIO object at 0x7f703af12fb0>\n",
      "Error processing image d03adef220c2452aa34edab3c6128c74. Error: cannot identify image file <_io.BytesIO object at 0x7f70aaec3590>\n",
      "Error processing image bed6d31ac4b94cd896b868532fa6991b. Error: cannot identify image file <_io.BytesIO object at 0x7f70aaec3fb0>\n",
      "Error processing image 21d18d998e374be7bab5955b20f4e880. Error: cannot identify image file <_io.BytesIO object at 0x7f707c2a34d0>\n",
      "Error processing image a4b68a4136f948b8a944960beacb10a9. Error: cannot identify image file <_io.BytesIO object at 0x7f707c2a3ad0>\n",
      "Error processing image 7abb9e8b7c884b68bf8f093414908ef5. Error: cannot identify image file <_io.BytesIO object at 0x7f707c286f50>\n",
      "Error processing image 6dd1ff3f2cc44c238462a7eaa9cd5b3f. Error: cannot identify image file <_io.BytesIO object at 0x7f70aaecba10>\n",
      "Error processing image 1b57445bce424a2a825417625bc91a67. Error: cannot identify image file <_io.BytesIO object at 0x7f70aaecb9b0>\n",
      "Error processing image fbabbff15a7a46d5a40bee97e1be7573. Error: cannot identify image file <_io.BytesIO object at 0x7f707c286350>\n",
      "Error processing image 95972e2f88514b2c85fdd7c7f9cac9c3. Error: cannot identify image file <_io.BytesIO object at 0x7f707c286830>\n",
      "Error processing image 66067394bfa04b259387ee49c5b38c26. Error: cannot identify image file <_io.BytesIO object at 0x7f707c2866b0>\n",
      "Error processing image e01e5b38bdbe4dada2bbf9fd371ac611. Error: cannot identify image file <_io.BytesIO object at 0x7f70aaec05f0>\n",
      "Error processing image c0adef9f279c4de4b12b2fb393fcc898. Error: cannot identify image file <_io.BytesIO object at 0x7f70aaecba10>\n",
      "Error processing image ed92ec939dda46b19603cd59d689e688. Error: cannot identify image file <_io.BytesIO object at 0x7f707c286350>\n",
      "Error processing image 523ff7dd18dd4897a5132ae7e3004969. Error: cannot identify image file <_io.BytesIO object at 0x7f707c2a3ad0>\n",
      "Error processing image d6462b38cc5047c39e3376df7df881af. Error: cannot identify image file <_io.BytesIO object at 0x7f707c2a34d0>\n",
      "Error processing image ea48619cc3394a7495ac754727ae9fd1. Error: cannot identify image file <_io.BytesIO object at 0x7f703af12fb0>\n",
      "Error processing image c86d272d7e234a498a27c92f70fd2511. Error: cannot identify image file <_io.BytesIO object at 0x7f70ab362f50>\n",
      "Error processing image 399f9b8897f94f2a965edb66d4c964de. Error: cannot identify image file <_io.BytesIO object at 0x7f70aaec6a10>\n",
      "Error processing image 1d69b451ae2d496c836924b28451c6af. Error: cannot identify image file <_io.BytesIO object at 0x7f70aaec6a70>\n",
      "Error processing image 1248b9bcb1994e3d9d939f8f6ec8ab05. Error: cannot identify image file <_io.BytesIO object at 0x7f703b1a6710>\n",
      "Error processing image 89e5fe4c71404a3090ea1a670e0ecda3. Error: cannot identify image file <_io.BytesIO object at 0x7f707c901fb0>\n",
      "Error processing image 4213049f1631463fbc3480e5b73f9584. Error: cannot identify image file <_io.BytesIO object at 0x7f70ab10d470>\n",
      "Error processing image 99ac89011046451f8245da8faf368953. Error: cannot identify image file <_io.BytesIO object at 0x7f70ab1f5d70>\n",
      "Error processing image b856d9023fd34c88bce37d87dfd44c07. Error: cannot identify image file <_io.BytesIO object at 0x7f703b1faf50>\n",
      "Error processing image 8114381e324742189e8e831aa6b8be01. Error: cannot identify image file <_io.BytesIO object at 0x7f707c286f50>\n",
      "Error processing image 13e18949b7214bf2b8f740d8866d3417. Error: cannot identify image file <_io.BytesIO object at 0x7f70aaec3fb0>\n",
      "Error processing image d75dfad688be479d8bbcc22bafc4d915. Error: cannot identify image file <_io.BytesIO object at 0x7f707c2866b0>\n",
      "Error processing image 0ee63340979c408a98fa8326256185a5. Error: cannot identify image file <_io.BytesIO object at 0x7f707c286830>\n",
      "Error processing image 1e66dbe9752140d4928c048bd6a490ec. Error: cannot identify image file <_io.BytesIO object at 0x7f70aaec3590>\n",
      "Error processing image 9d95e045e35b4813a785f95544bd2975. Error: cannot identify image file <_io.BytesIO object at 0x7f70aaec3c50>\n",
      "Error processing image 931c59206ce04a0098ab2ae4a6468b60. Error: cannot identify image file <_io.BytesIO object at 0x7f70aaec0e90>\n",
      "Error processing image e743ccc34b7b413384363cb4e54776c0. Error: cannot identify image file <_io.BytesIO object at 0x7f703b1faf50>\n",
      "Error processing image 27e72d0f485e41f087a3748dc9881f7f. Error: cannot identify image file <_io.BytesIO object at 0x7f70ab10d470>\n",
      "Error processing image a1f78105c27b418bb281121a69aff77d. Error: cannot identify image file <_io.BytesIO object at 0x7f707c901fb0>\n",
      "Error processing image 21577c1e1d4b47f5af4fbcbb19f2ebce. Error: cannot identify image file <_io.BytesIO object at 0x7f703b1a6710>\n",
      "Error processing image 7c9d7e1612264000a8dd86eb8b0a62e6. Error: cannot identify image file <_io.BytesIO object at 0x7f70ab1f5d70>\n",
      "Error processing image 07395032-6f9c-4f30-81cc-1af0b7f5d619. Error: cannot identify image file <_io.BytesIO object at 0x7f707c976050>\n",
      "Error processing image ba2822b2-0044-432a-b933-8be6ce3c5e58. Error: cannot identify image file <_io.BytesIO object at 0x7f70aaec3590>\n",
      "Error processing image 73210b29-fbf8-496e-aff4-57468cc91323. Error: cannot identify image file <_io.BytesIO object at 0x7f703af12fb0>\n",
      "Error processing image d6834824-b7c4-4791-8640-c1fac2f35071. Error: cannot identify image file <_io.BytesIO object at 0x7f70ab362f50>\n",
      "Error processing image c9266cf7-2990-4d2e-8e08-22a822088fae. Error: cannot identify image file <_io.BytesIO object at 0x7f70aaec6a70>\n",
      "Error processing image caabe5e7-b889-4bca-bfc5-bbd1d6ce163a. Error: cannot identify image file <_io.BytesIO object at 0x7f70aaec6a10>\n",
      "Error processing image 15bf8c73-2c51-41bf-b879-8533697e25ec. Error: cannot identify image file <_io.BytesIO object at 0x7f707c2a34d0>\n",
      "Error processing image 7cbd6a24-42aa-45af-93cb-551a80813538. Error: cannot identify image file <_io.BytesIO object at 0x7f707c2a3ad0>\n",
      "Error processing image 01c098e6-3727-4401-9440-d91116b9f994. Error: cannot identify image file <_io.BytesIO object at 0x7f707c286f50>\n",
      "Error processing image 6af79a1d-dc67-4c71-b3db-4a995f8671e5. Error: cannot identify image file <_io.BytesIO object at 0x7f70aaecba10>\n",
      "Error processing image 0c6e5361-5a2e-40f8-a72e-f47d519444c1. Error: cannot identify image file <_io.BytesIO object at 0x7f70aaecb9b0>\n",
      "Error processing image 1fa7908f-075a-4150-aea7-b97da0fcf8c4. Error: cannot identify image file <_io.BytesIO object at 0x7f707c286350>\n",
      "Error processing image 56185485-6be9-46d5-9df4-043f68fa4a8b. Error: cannot identify image file <_io.BytesIO object at 0x7f707c286830>\n",
      "Error processing image 9e702f23-0ac3-49fd-8184-74aa45bc3116. Error: cannot identify image file <_io.BytesIO object at 0x7f707c2866b0>\n",
      "Error processing image a6708936-64aa-43e1-9188-ea15495ac7d8. Error: cannot identify image file <_io.BytesIO object at 0x7f70aaec0a70>\n",
      "Error processing image 35369d1d-a1a8-4b0e-abfa-f16692f2f998. Error: cannot identify image file <_io.BytesIO object at 0x7f70aaecba10>\n",
      "Error processing image 8a1bf2a3-be02-46e0-907e-1b2fc346514e. Error: cannot identify image file <_io.BytesIO object at 0x7f707c286350>\n",
      "Error processing image 82770d74-45bd-4bbd-949d-e4b25176f7ab. Error: cannot identify image file <_io.BytesIO object at 0x7f707c2a3ad0>\n",
      "Error processing image 16e1f0ab-7372-43cd-8e10-a33355855641. Error: cannot identify image file <_io.BytesIO object at 0x7f707c2a34d0>\n",
      "Error processing image 2b533b06-c0ce-499d-9ccf-0865e082ccb5. Error: cannot identify image file <_io.BytesIO object at 0x7f70aaec6a10>\n",
      "Error processing image 16159ee4-d348-4ff8-80f8-cf674dab1791. Error: cannot identify image file <_io.BytesIO object at 0x7f70aaec6a70>\n",
      "Error processing image 9bf172cc-85ea-498b-9d82-982d2dcdaefb. Error: cannot identify image file <_io.BytesIO object at 0x7f70ab362f50>\n",
      "Error processing image 867b49c7-275e-4f95-974a-385df0751f89. Error: cannot identify image file <_io.BytesIO object at 0x7f707c976050>\n",
      "Error processing image b427e57e-3eb9-4cb9-96a8-5559ea3871ec. Error: cannot identify image file <_io.BytesIO object at 0x7f70ab1f5d70>\n",
      "Error processing image dc1a7cf1-e15b-4cb6-88e3-2dac1b7734f5. Error: cannot identify image file <_io.BytesIO object at 0x7f703b1a6710>\n",
      "Error processing image 1ae09e9c-247f-4532-8ce7-7657b62e0fe3. Error: cannot identify image file <_io.BytesIO object at 0x7f707c901fb0>\n",
      "Error processing image fd596eb4-023d-4cc2-9553-58b8a7d2cc76. Error: cannot identify image file <_io.BytesIO object at 0x7f70ab10d470>\n",
      "Error processing image 05a6b6c5-5b58-45d3-845a-41a5d7a1a49e. Error: cannot identify image file <_io.BytesIO object at 0x7f703b1faf50>\n",
      "Error processing image 98ffd330-52e2-41d5-84d1-c552b3a459f1. Error: cannot identify image file <_io.BytesIO object at 0x7f703af12fb0>\n",
      "Error processing image b652101c-7337-4a4d-8515-5b50f4c9fb0a. Error: cannot identify image file <_io.BytesIO object at 0x7f70aaec3590>\n",
      "Error processing image e7905712-7371-4fb6-b6f7-b59e709b88b1. Error: cannot identify image file <_io.BytesIO object at 0x7f707c286f50>\n",
      "Error processing image a878f777-64a8-4eab-8736-7de0d32b8a8b. Error: cannot identify image file <_io.BytesIO object at 0x7f707c286830>\n",
      "Error processing image ad6385a9-0eaf-4cd8-8d54-7c944aa5e02f. Error: cannot identify image file <_io.BytesIO object at 0x7f70aaec3fb0>\n",
      "Error processing image f293bd88-6174-46e2-86ad-7c9c3dae9c3e. Error: cannot identify image file <_io.BytesIO object at 0x7f70aaec3c50>\n",
      "Error processing image dc19632e-3485-48e7-b577-090594b8ec87. Error: cannot identify image file <_io.BytesIO object at 0x7f70aaec05f0>\n",
      "Error processing image 9af04b31-bcb6-424e-a092-b004fc27df9a. Error: cannot identify image file <_io.BytesIO object at 0x7f703af12fb0>\n",
      "Error processing image 7ade0e98-277f-4efd-8d54-fdf248fc2c3f. Error: cannot identify image file <_io.BytesIO object at 0x7f70ab10d470>\n",
      "Error processing image 545493cc-ffab-45a0-836c-ceb5ac45b85f. Error: cannot identify image file <_io.BytesIO object at 0x7f707c901fb0>\n",
      "Error processing image 6fca392b-7a72-496b-acb7-62818007b1b9. Error: cannot identify image file <_io.BytesIO object at 0x7f703b1a6710>\n",
      "Error processing image 10f34ce0-383d-418d-b9c0-e78fc943702f. Error: cannot identify image file <_io.BytesIO object at 0x7f70ab1f5d70>\n",
      "Error processing image 61da9a9a-6b97-4ad1-ac8b-471511e4365b. Error: cannot identify image file <_io.BytesIO object at 0x7f707c976050>\n",
      "Error processing image c55b2cd6-3b91-4b26-93c4-bc393704436a. Error: cannot identify image file <_io.BytesIO object at 0x7f703b1faf50>\n",
      "Error processing image bb59250f-3a73-450e-aebb-020b13153635. Error: cannot identify image file <_io.BytesIO object at 0x7f703b1faf50>\n",
      "Error processing image 23b5d7d8-1801-4275-a04a-883b0dd60dea. Error: cannot identify image file <_io.BytesIO object at 0x7f70aaec3fb0>\n",
      "Error processing image f2bb8c55-cd47-4f6e-bd8e-240c19b3b4e7. Error: cannot identify image file <_io.BytesIO object at 0x7f70aaec6a10>\n",
      "Error processing image 21fe89e2-ee62-4424-84e0-4cd21cf83780. Error: cannot identify image file <_io.BytesIO object at 0x7f70aaec6a70>\n",
      "Error processing image a5f5aeac-f23d-4f4d-9c8f-f16853b81e17. Error: cannot identify image file <_io.BytesIO object at 0x7f707c2a34d0>\n",
      "Error processing image 4cfd123a-287f-43d3-8a0d-ab2fcf6156c1. Error: cannot identify image file <_io.BytesIO object at 0x7f707c2a3ad0>\n",
      "Error processing image c19296b7-f3ac-4c59-a376-a697d6b22ed9. Error: cannot identify image file <_io.BytesIO object at 0x7f707c2866b0>\n",
      "Error processing image 30044366-fb05-42ad-9019-b83e0b75b981. Error: cannot identify image file <_io.BytesIO object at 0x7f70aaecba10>\n",
      "Error processing image e63b2d84-f569-40f8-acd1-59a4829086a8. Error: cannot identify image file <_io.BytesIO object at 0x7f70aaecb9b0>\n",
      "Error processing image 1331dc95-902d-4117-aec6-3fd43eee64f9. Error: cannot identify image file <_io.BytesIO object at 0x7f707c286350>\n",
      "Error processing image a79787fe-eb9c-4d62-9d0d-c46825eef59b. Error: cannot identify image file <_io.BytesIO object at 0x7f707c286830>\n",
      "Error processing image 0e4152e1-597d-4bc5-bcd7-3ea7cb5c4d78. Error: cannot identify image file <_io.BytesIO object at 0x7f707c286f50>\n",
      "Error processing image cdda7364-1bbe-4dd7-bc3d-4aa2f8e00e8b. Error: cannot identify image file <_io.BytesIO object at 0x7f70aaec0e90>\n",
      "Error processing image f20aa4c5-6667-4b94-93b5-16f6a0013c03. Error: cannot identify image file <_io.BytesIO object at 0x7f70aaecba10>\n",
      "Error processing image 752fd6aa-9969-4af2-bf06-c156a0d632ee. Error: cannot identify image file <_io.BytesIO object at 0x7f707c286350>\n",
      "Error processing image f8c3c46f-ee93-41e7-b500-406f42f7f66d. Error: cannot identify image file <_io.BytesIO object at 0x7f707c2a3ad0>\n",
      "Error processing image 14dc6570-30b5-4301-b399-cfb9a61ba4f3. Error: cannot identify image file <_io.BytesIO object at 0x7f707c2a34d0>\n",
      "Error processing image 5f0d2237-5e7a-4f33-a5dd-e2ccc959226f. Error: cannot identify image file <_io.BytesIO object at 0x7f70aaec6a70>\n",
      "Error processing image 3bd90577-1f07-4d65-8d45-25900f79edad. Error: cannot identify image file <_io.BytesIO object at 0x7f70aaec6a10>\n",
      "Error processing image 13e62420-73e7-40bb-bab3-05b645f4317f. Error: cannot identify image file <_io.BytesIO object at 0x7f70ab362f50>\n",
      "Error processing image 22bcc494-355e-4d63-9b32-4d2caeaa019b. Error: cannot identify image file <_io.BytesIO object at 0x7f707c976050>\n",
      "Error processing image 09b6ca91-624b-469e-9756-9e710eae545d. Error: cannot identify image file <_io.BytesIO object at 0x7f703b1faf50>\n",
      "Error processing image 44b10fdd-2191-4d5a-b02b-29007b5915ad. Error: cannot identify image file <_io.BytesIO object at 0x7f703b1a6710>\n",
      "Error processing image ee444dd5-0f2c-4e34-8a4b-383a216bcad1. Error: cannot identify image file <_io.BytesIO object at 0x7f707c901fb0>\n",
      "Error processing image 71030cd5-f332-4bf8-b3a0-f574c9581488. Error: cannot identify image file <_io.BytesIO object at 0x7f70ab10d470>\n",
      "Error processing image 7c20eb2d-2537-4efc-9ad4-d295e4eeadfa. Error: cannot identify image file <_io.BytesIO object at 0x7f703af12fb0>\n",
      "Error processing image 5debdfa7-3200-4e1b-842c-4b82d0a0e6f3. Error: cannot identify image file <_io.BytesIO object at 0x7f707c2866b0>\n",
      "Error processing image 20ea5b2a-aa6f-4bdf-900c-7858bfb9382c. Error: cannot identify image file <_io.BytesIO object at 0x7f70aaec3fb0>\n",
      "Error processing image 57b69f6e-96ab-4126-8386-cd59719cdda1. Error: cannot identify image file <_io.BytesIO object at 0x7f707c286830>\n"
     ]
    }
   ],
   "source": [
    "for record in image_records:\n",
    "    image_content = download_image(record['id'])\n",
    "    truth_id = record['truth_id']\n",
    "\n",
    "    if id_code_mapping[truth_id] == '0':\n",
    "        file_path = os.path.join(category0_dir, f\"{record['id']}.png\")\n",
    "    else:\n",
    "        file_path = os.path.join(category1_dir, f\"{record['id']}.png\")\n",
    "    try:\n",
    "        img = Image.open(io.BytesIO(image_content))\n",
    "        img.save(file_path, \"PNG\")\n",
    "    except Exception as e:\n",
    "        print(f'Error processing image {record[\"id\"]}. Error: {e}')\n",
    "\n",
    "    with open(file_path, 'wb') as f:\n",
    "        f.write(image_content)\n",
    "    img.save(file_path, \"PNG\")"
   ]
  },
  {
   "cell_type": "code",
   "execution_count": 227,
   "id": "7e2b1ab6-a729-4c01-b6fb-413a38c8021c",
   "metadata": {
    "tags": []
   },
   "outputs": [],
   "source": [
    "def preprocess_and_save_images(image_list, save_dir):\n",
    "    for image_path in image_list:\n",
    "        try:\n",
    "            img = Image.open(image_path)\n",
    "\n",
    "            # Apply your preprocessing steps\n",
    "            img_vertical_flipped = vertical_flip(img)\n",
    "            img_horizontal_flipped = horizontal_flip(img)\n",
    "            img_clipped = clip_image(img, 200, 200)\n",
    "            img_normalized = normalize_image(img)\n",
    "\n",
    "            # Save the preprocessed images\n",
    "            base_name = os.path.basename(image_path).split('.')[0]\n",
    "            img_vertical_flipped.save(os.path.join(save_dir, f\"{base_name}_vertical_flipped.png\"))\n",
    "            img_horizontal_flipped.save(os.path.join(save_dir, f\"{base_name}_horizontal_flipped.png\"))\n",
    "            img_clipped.save(os.path.join(save_dir, f\"{base_name}_clipped.png\"))\n",
    "\n",
    "            # If you want to save the normalized image, you'll need to convert it back to a PIL Image\n",
    "            img_normalized_pil = Image.fromarray((img_normalized * 255).astype('uint8'))\n",
    "            img_normalized_pil.save(os.path.join(save_dir, f\"{base_name}_normalized.png\"))\n",
    "        except Exception as e:\n",
    "            print(f'Error processing image {image_path}. Error: {e}')\n",
    "\n",
    "\n",
    "# Get all image paths from each category\n",
    "all_category0_images = [os.path.join(category0_dir, fname) for fname in os.listdir(category0_dir)]\n",
    "all_category1_images = [os.path.join(category1_dir, fname) for fname in os.listdir(category1_dir)]\n",
    "\n",
    "# Preprocess and save images for each category\n",
    "preprocess_and_save_images(all_category0_images, category0_dir)\n",
    "preprocess_and_save_images(all_category1_images, category1_dir)\n",
    "\n",
    "category0_train, category0_val, category0_test = split_data(category0_dir)\n",
    "category1_train, category1_val, category1_test = split_data(category1_dir)"
   ]
  },
  {
   "cell_type": "code",
   "execution_count": 228,
   "id": "d5f45fd7-b98b-4d3c-9a2a-7787f6a38efb",
   "metadata": {
    "tags": []
   },
   "outputs": [],
   "source": [
    "img_vertical_flipped.save(\"path_to_save_vertical_flipped.png\")\n",
    "img_horizontal_flipped.save(\"path_to_save_horizontal_flipped.png\")\n",
    "img_clipped.save(\"path_to_save_clipped.png\")"
   ]
  },
  {
   "cell_type": "code",
   "execution_count": 229,
   "id": "b1bd280d-2546-4f43-9553-1745024914c6",
   "metadata": {
    "tags": []
   },
   "outputs": [],
   "source": [
    "base_dir = \"./dataset\"\n",
    "train_dir = os.path.join(base_dir, 'train')\n",
    "val_dir = os.path.join(base_dir, 'val')\n",
    "test_dir = os.path.join(base_dir, 'test')\n",
    "\n",
    "\n",
    "for directory in [train_dir, val_dir, test_dir]:\n",
    "    os.makedirs(directory, exist_ok=True)\n",
    "    os.makedirs(os.path.join(directory, 'Category0'), exist_ok=True)\n",
    "    os.makedirs(os.path.join(directory, 'Category1'), exist_ok=True)"
   ]
  },
  {
   "cell_type": "code",
   "execution_count": 230,
   "id": "29951eaa-be63-44b5-bf26-996524d5560c",
   "metadata": {
    "tags": []
   },
   "outputs": [],
   "source": [
    "category0_train, category0_val, category0_test = split_data(category0_dir)\n",
    "category1_train, category1_val, category1_test = split_data(category1_dir)\n",
    "\n",
    "def move_files(file_list, target_dir):\n",
    "    if os.path.exists(target_dir):\n",
    "        shutil.rmtree(target_dir)\n",
    "    os.makedirs(target_dir)\n",
    "\n",
    "    for f in file_list:\n",
    "        shutil.move(f, target_dir)\n",
    "\n",
    "# Move Category0 images\n",
    "move_files(category0_train, os.path.join(train_dir, 'Category0'))\n",
    "move_files(category0_val, os.path.join(val_dir, 'Category0'))\n",
    "move_files(category0_test, os.path.join(test_dir, 'Category0'))\n",
    "\n",
    "# Move Category1 images\n",
    "move_files(category1_train, os.path.join(train_dir, 'Category1'))\n",
    "move_files(category1_val, os.path.join(val_dir, 'Category1'))\n",
    "move_files(category1_test, os.path.join(test_dir, 'Category1'))"
   ]
  },
  {
   "cell_type": "code",
   "execution_count": 231,
   "id": "01e44fd4-3c62-44e9-851e-9eccdf8c8646",
   "metadata": {
    "tags": []
   },
   "outputs": [],
   "source": [
    "def split_data(directory):\n",
    "    all_files = [os.path.join(directory, fname) for fname in os.listdir(directory)]\n",
    "    train_files, test_files = train_test_split(all_files, test_size=0.2, random_state=42)\n",
    "    train_files, val_files = train_test_split(train_files, test_size=0.25, random_state=42)  # 0.25 x 0.8 = 0.2\n",
    "    return train_files, val_files, test_files"
   ]
  },
  {
   "cell_type": "code",
   "execution_count": 44,
   "id": "1c243f63-b517-4a70-bf7b-43f96dcc7ebf",
   "metadata": {
    "tags": []
   },
   "outputs": [
    {
     "name": "stdout",
     "output_type": "stream",
     "text": [
      "2.8.2\n"
     ]
    }
   ],
   "source": [
    "import tensorflow as tf\n",
    "from tensorflow.keras import layers\n",
    "\n",
    "print(tf.__version__)"
   ]
  },
  {
   "cell_type": "code",
   "execution_count": 45,
   "id": "ed5e8f7e-f6fb-46ee-b0a8-1c30da386b65",
   "metadata": {
    "tags": []
   },
   "outputs": [],
   "source": [
    "batch_size = 32 # 每一批所处理的图片数量,可以根据需要进行更改"
   ]
  },
  {
   "cell_type": "code",
   "execution_count": 10,
   "id": "110d0c4c-692e-4849-88f3-cfd3a3203e71",
   "metadata": {
    "tags": []
   },
   "outputs": [
    {
     "name": "stderr",
     "output_type": "stream",
     "text": [
      "2023-09-04 06:48:50.861283: W tensorflow/stream_executor/platform/default/dso_loader.cc:64] Could not load dynamic library 'libcuda.so.1'; dlerror: libcuda.so.1: cannot open shared object file: No such file or directory; LD_LIBRARY_PATH: /usr/local/nvidia/lib:/usr/local/nvidia/lib64\n",
      "2023-09-04 06:48:50.861318: W tensorflow/stream_executor/cuda/cuda_driver.cc:269] failed call to cuInit: UNKNOWN ERROR (303)\n",
      "2023-09-04 06:48:50.861336: I tensorflow/stream_executor/cuda/cuda_diagnostics.cc:156] kernel driver does not appear to be running on this host (58c881efe57c): /proc/driver/nvidia/version does not exist\n",
      "2023-09-04 06:48:50.862537: I tensorflow/core/platform/cpu_feature_guard.cc:151] This TensorFlow binary is optimized with oneAPI Deep Neural Network Library (oneDNN) to use the following CPU instructions in performance-critical operations:  AVX2 AVX512F FMA\n",
      "To enable them in other operations, rebuild TensorFlow with the appropriate compiler flags.\n"
     ]
    }
   ],
   "source": [
    "def build_dataset(data_dir, target=None):\n",
    "    all_images = []\n",
    "    all_labels = []\n",
    "    for i in range(4):\n",
    "        if target is not None and i != target:\n",
    "            continue\n",
    "        images = glob.glob(os.path.join(data_dir, f'{i}/*.png'), recursive=True)\n",
    "        all_images.extend(images)\n",
    "        all_labels.extend([i] * len(images))\n",
    "    ds = tf.data.Dataset.from_tensor_slices((all_images, all_labels))\n",
    "    ds = ds.map(lambda x,y: (tf.io.encode_base64(tf.io.read_file(x)) ,y))\n",
    "    ds = ds.shuffle(100, seed=123)\n",
    "    ds = ds.batch(batch_size)\n",
    "    return ds\n",
    "\n",
    "\n",
    "train_ds = build_dataset(train_dir)\n",
    "dev_ds = build_dataset(dev_dir)\n",
    "test_ds = build_dataset(test_dir)"
   ]
  },
  {
   "cell_type": "code",
   "execution_count": 11,
   "id": "21de717b-81f6-45f9-b92f-7b548b1f47ca",
   "metadata": {
    "tags": []
   },
   "outputs": [
    {
     "name": "stdout",
     "output_type": "stream",
     "text": [
      "<BatchDataset element_spec=(TensorSpec(shape=(None,), dtype=tf.string, name=None), TensorSpec(shape=(None,), dtype=tf.int32, name=None))>\n",
      "(32,)\n",
      "(32,)\n"
     ]
    }
   ],
   "source": [
    "print(train_ds)\n",
    "for image_batch, labels_batch in train_ds:\n",
    "    print(image_batch.shape)\n",
    "    print(labels_batch.shape)\n",
    "    break"
   ]
  },
  {
   "cell_type": "code",
   "execution_count": 12,
   "id": "258aa0b3-cfe5-4340-93d3-642054ed88ae",
   "metadata": {
    "tags": []
   },
   "outputs": [],
   "source": [
    "#from keras import models\n",
    "#\n",
    "\n",
    "#def process_base64_image(s):\n",
    "#    img = tf.io.decode_base64(s)\n",
    "#    img = tf.io.decode_png(img, channels=3)\n",
    "#    img = tf.image.resize(img, (img_height, img_width), antialias=True)    \n",
    "#    return img\n",
    "\n",
    "#model = models.Sequential([\n",
    " #   layers.Lambda(\n",
    " #           (\n",
    "#                lambda x: tf.map_fn(\n",
    "#                    process_base64_image,\n",
    "#                    x,\n",
    "#                    fn_output_signature=tf.TensorSpec(shape=(int(img_height), int(img_width), 3), dtype=tf.float32))\n",
    "#            ),\n",
    "#            name='decode_base64_png'\n",
    "#        ),\n",
    "#    tf.keras.layers.Conv2D(32, (3, 3),  activation='relu', input_shape=(150, 150, 3)),\n",
    "#    tf.keras.layers.MaxPool2D(2, 2),\n",
    "#    tf.keras.layers.Conv2D(64, (3, 3), activation='relu'),\n",
    "#    tf.keras.layers.MaxPooling2D(2, 2),\n",
    "#    tf.keras.layers.Conv2D(128, (3, 3), activation='relu'),\n",
    "#    tf.keras.layers.MaxPooling2D(2, 2),\n",
    "#    tf.keras.layers.Flatten(),\n",
    "#    tf.keras.layers.Dense(512, activation='relu'),\n",
    "#    tf.keras.layers.Dense(1, activation='sigmoid')])\n",
    "\n",
    "#from keras import optimizers\n",
    "#model.compile(\n",
    "#    loss='binary_crossentropy',\n",
    "#    optimizer=optimizers.RMSprop(lr=1e-4),\n",
    "#    metrics=['accuracy'])\n",
    "#model.summary()\n",
    "#model.compile(\n",
    "#  optimizer='adam',\n",
    "#  loss=tf.losses.SparseCategoricalCrossentropy(from_logits=True),\n",
    "#  metrics=['accuracy'])\n"
   ]
  },
  {
   "cell_type": "code",
   "execution_count": 16,
   "id": "d37fd8c4-76da-4aa1-ad9c-3cb0a4537417",
   "metadata": {
    "tags": []
   },
   "outputs": [],
   "source": [
    "def process_base64_image(s):\n",
    "    img = tf.io.decode_base64(s)\n",
    "    img = tf.io.decode_png(img, channels=3)\n",
    "    img = tf.image.resize(img, (img_height, img_width), antialias=True)    \n",
    "    return img\n",
    "\n",
    "# 构建模型\n",
    "model = tf.keras.Sequential([\n",
    "    layers.Lambda(\n",
    "            (\n",
    "                lambda x: tf.map_fn(\n",
    "                    process_base64_image,\n",
    "                    x,\n",
    "                    fn_output_signature=tf.TensorSpec(shape=(int(img_height), int(img_width), 3), dtype=tf.float32))\n",
    "            ),\n",
    "            name='decode_base64_png'\n",
    "        ),\n",
    "    tf.keras.layers.Conv2D(32, (3, 3), padding='same', activation='relu', input_shape=(img_height, img_width, 3)),\n",
    "    tf.keras.layers.MaxPooling2D(2, 2),\n",
    "    tf.keras.layers.Conv2D(64, (3, 3), padding='same', activation='relu', input_shape=(img_height, img_width, 3)),\n",
    "    tf.keras.layers.MaxPooling2D(),\n",
    "    tf.keras.layers.Conv2D(128, (3, 3), activation='relu'),\n",
    "    tf.keras.layers.MaxPooling2D(2, 2),\n",
    "    tf.keras.layers.Flatten(),\n",
    "    tf.keras.layers.Dense(512, activation='relu'),\n",
    "     tf.keras.layers.Dense(2)\n",
    "])"
   ]
  },
  {
   "cell_type": "code",
   "execution_count": 17,
   "id": "567394b4-b8ca-4f1f-9585-ac7d86ac5907",
   "metadata": {
    "tags": []
   },
   "outputs": [],
   "source": [
    "model.compile(\n",
    "  optimizer='adam',\n",
    "  loss=tf.losses.SparseCategoricalCrossentropy(from_logits=True),\n",
    "  metrics=['accuracy'])"
   ]
  },
  {
   "cell_type": "code",
   "execution_count": 18,
   "id": "bced0ca6-8207-4aad-bc2f-2f13353c3e37",
   "metadata": {
    "tags": []
   },
   "outputs": [
    {
     "name": "stdout",
     "output_type": "stream",
     "text": [
      "Epoch 1/20\n",
      "15/15 [==============================] - 12s 726ms/step - loss: 295.4449 - accuracy: 0.7134 - val_loss: 51.6766 - val_accuracy: 0.3291\n",
      "Epoch 2/20\n",
      "15/15 [==============================] - 11s 727ms/step - loss: 28.4405 - accuracy: 0.7909 - val_loss: 53.9243 - val_accuracy: 0.6709\n",
      "Epoch 3/20\n",
      "15/15 [==============================] - 11s 723ms/step - loss: 26.9080 - accuracy: 0.6293 - val_loss: 3.1529 - val_accuracy: 0.3367\n",
      "Epoch 4/20\n",
      "15/15 [==============================] - 11s 724ms/step - loss: 2.0840 - accuracy: 0.7823 - val_loss: 1.6101 - val_accuracy: 0.6709\n",
      "Epoch 5/20\n",
      "15/15 [==============================] - 11s 725ms/step - loss: 0.8889 - accuracy: 0.6034 - val_loss: 8.1377 - val_accuracy: 0.6709\n",
      "Epoch 6/20\n",
      "15/15 [==============================] - 11s 725ms/step - loss: 2.2395 - accuracy: 0.6164 - val_loss: 0.7689 - val_accuracy: 0.6709\n",
      "Epoch 7/20\n",
      "15/15 [==============================] - 11s 726ms/step - loss: 0.5435 - accuracy: 0.7091 - val_loss: 0.4800 - val_accuracy: 0.6658\n",
      "Epoch 8/20\n",
      "15/15 [==============================] - 11s 731ms/step - loss: 0.4918 - accuracy: 0.7112 - val_loss: 0.4198 - val_accuracy: 0.7092\n",
      "Epoch 9/20\n",
      "15/15 [==============================] - 11s 725ms/step - loss: 0.3808 - accuracy: 0.7608 - val_loss: 5.7604 - val_accuracy: 0.6709\n",
      "Epoch 10/20\n",
      "15/15 [==============================] - 11s 723ms/step - loss: 1.7293 - accuracy: 0.7134 - val_loss: 15.3760 - val_accuracy: 0.6709\n",
      "Epoch 11/20\n",
      "15/15 [==============================] - 11s 723ms/step - loss: 3.6328 - accuracy: 0.7177 - val_loss: 2.2004 - val_accuracy: 0.6709\n",
      "Epoch 12/20\n",
      "15/15 [==============================] - 11s 727ms/step - loss: 0.8498 - accuracy: 0.5690 - val_loss: 0.4755 - val_accuracy: 0.6735\n",
      "Epoch 13/20\n",
      "15/15 [==============================] - 11s 727ms/step - loss: 0.5128 - accuracy: 0.7198 - val_loss: 0.4462 - val_accuracy: 0.6964\n",
      "Epoch 14/20\n",
      "15/15 [==============================] - 11s 725ms/step - loss: 0.4333 - accuracy: 0.7457 - val_loss: 0.4389 - val_accuracy: 0.7194\n",
      "Epoch 15/20\n",
      "15/15 [==============================] - 11s 720ms/step - loss: 0.4664 - accuracy: 0.7414 - val_loss: 0.4106 - val_accuracy: 0.7066\n",
      "Epoch 16/20\n",
      "15/15 [==============================] - 11s 723ms/step - loss: 0.4051 - accuracy: 0.7608 - val_loss: 0.4099 - val_accuracy: 0.7474\n",
      "Epoch 17/20\n",
      "15/15 [==============================] - 11s 724ms/step - loss: 0.4047 - accuracy: 0.8147 - val_loss: 0.3734 - val_accuracy: 0.8648\n",
      "Epoch 18/20\n",
      "15/15 [==============================] - 11s 725ms/step - loss: 0.4335 - accuracy: 0.6703 - val_loss: 0.4351 - val_accuracy: 0.6862\n",
      "Epoch 19/20\n",
      "15/15 [==============================] - 11s 724ms/step - loss: 0.4743 - accuracy: 0.6142 - val_loss: 0.3984 - val_accuracy: 0.7066\n",
      "Epoch 20/20\n",
      "15/15 [==============================] - 11s 724ms/step - loss: 0.4260 - accuracy: 0.7392 - val_loss: 0.3900 - val_accuracy: 0.7015\n"
     ]
    }
   ],
   "source": [
    "epochs = 20\n",
    "history = model.fit(\n",
    "    train_ds,\n",
    "    epochs=epochs,\n",
    "    validation_data=dev_ds\n",
    ")"
   ]
  },
  {
   "cell_type": "code",
   "execution_count": 19,
   "id": "c21f94d8-d1c6-4bb8-a943-566c6331b8d0",
   "metadata": {
    "tags": []
   },
   "outputs": [
    {
     "name": "stdout",
     "output_type": "stream",
     "text": [
      "12/12 [==============================] - 3s 220ms/step - loss: 0.3729 - accuracy: 0.7135\n"
     ]
    },
    {
     "data": {
      "text/plain": [
       "[0.3728915750980377, 0.7134831547737122]"
      ]
     },
     "execution_count": 19,
     "metadata": {},
     "output_type": "execute_result"
    }
   ],
   "source": [
    "model.evaluate(test_ds)"
   ]
  },
  {
   "cell_type": "code",
   "execution_count": null,
   "id": "4ddaee01-16b7-4bae-9036-708bc2557672",
   "metadata": {
    "tags": []
   },
   "outputs": [],
   "source": [
    "import pytz\n",
    "from datetime import datetime\n",
    "\n",
    "model_version =  datetime.now(pytz.timezone('Asia/Shanghai')).strftime('%Y%m%d%H%M%S')\n",
    "tf.keras.models.save_model(\n",
    "    model,\n",
    "    f'/models/slot1/{model_version}/',\n",
    "    overwrite=True,\n",
    ")"
   ]
  },
  {
   "cell_type": "code",
   "execution_count": null,
   "id": "39b5a911-5329-4cd7-8906-3a1cc730847f",
   "metadata": {
    "tags": []
   },
   "outputs": [],
   "source": [
    "import base64\n",
    "\n",
    "def predict_image(images):    \n",
    "    bimages = []\n",
    "    for image in images:\n",
    "        with open(image, 'rb') as  fimage:\n",
    "            content = fimage.read()\n",
    "        bimage = base64.urlsafe_b64encode(content).decode()\n",
    "        bimages.append(bimage)\n",
    "    req_data ={\n",
    "      'inputs': bimages,\n",
    "    } \n",
    "    response = requests.post(TF_SERVING_BASE_URL+f'v1/models/slot1/versions/{model_version}:predict', # 根据部署地址填写\n",
    "                             json=req_data,\n",
    "                             headers={\"content-type\": \"application/json\"})\n",
    "    if response.status_code != 200:\n",
    "        raise RuntimeError('Request tf-serving failed: ' + response.text)\n",
    "    resp_data = json.loads(response.text)    \n",
    "    if 'outputs' not in resp_data \\\n",
    "                        or type(resp_data['outputs']) is not list:\n",
    "        raise ValueError('Malformed tf-serving response')\n",
    "    outputs = np.argmax(resp_data['outputs'], axis=1).tolist()\n",
    "    return outputs\n",
    "\n",
    "\n",
    "def test_image_model(test_dir, code, batch_size=10):    \n",
    "    images = list(pathlib.Path(test_dir).joinpath(str(code)).glob('./*.png')) \n",
    "    codes = []\n",
    "    for step in range(math.ceil(len(images)/batch_size)):\n",
    "        outputs = predict_image(images[step*batch_size:(step+1)*batch_size])\n",
    "        for i, o in zip(images, outputs):            \n",
    "            if o != code:\n",
    "                print('错误图片：', i)\n",
    "        codes.extend(outputs)\n",
    "    accuracy = round(codes.count(code) / len(codes), 4)\n",
    "    return accuracy, codes\n",
    "\n",
    "accuracy, codes = test_image_model(test_dir, 0)\n",
    "print('类别0的准确率', accuracy)\n",
    "print('类别0的测试结果', codes)\n",
    "accuracy, codes = test_image_model(test_dir, 1)\n",
    "print('类别1的准确率', accuracy)\n",
    "print('类别1的测试结果', codes)"
   ]
  },
  {
   "cell_type": "code",
   "execution_count": null,
   "id": "66cedbc6-a387-404d-b7d8-c364db52f614",
   "metadata": {},
   "outputs": [],
   "source": []
  }
 ],
 "metadata": {
  "kernelspec": {
   "display_name": "Python 3 (ipykernel)",
   "language": "python",
   "name": "python3"
  },
  "language_info": {
   "codemirror_mode": {
    "name": "ipython",
    "version": 3
   },
   "file_extension": ".py",
   "mimetype": "text/x-python",
   "name": "python",
   "nbconvert_exporter": "python",
   "pygments_lexer": "ipython3",
   "version": "3.7.13"
  }
 },
 "nbformat": 4,
 "nbformat_minor": 5
}
